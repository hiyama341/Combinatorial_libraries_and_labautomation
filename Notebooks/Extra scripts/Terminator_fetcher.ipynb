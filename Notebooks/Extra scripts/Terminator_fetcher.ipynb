{
 "cells": [
  {
   "cell_type": "code",
   "execution_count": 3,
   "id": "56618f48-6492-4e36-be49-751b3e603873",
   "metadata": {},
   "outputs": [],
   "source": [
    "from __future__ import print_function\n",
    "from intermine.webservice import Service\n",
    "from Bio.Seq import Seq\n",
    "from Bio.SeqRecord import SeqRecord\n"
   ]
  },
  {
   "cell_type": "code",
   "execution_count": 5,
   "id": "20339db2-3b63-46e4-a84c-19fe6dd3854b",
   "metadata": {},
   "outputs": [],
   "source": [
    "def FetchTerminator(promoter_name:str): \n",
    "    seq = ''\n",
    "    service = Service(\"https://yeastmine.yeastgenome.org/yeastmine/service\")\n",
    "    query = service.new_query(\"Gene\")\n",
    "    query.add_view(\n",
    "        \"secondaryIdentifier\", \"symbol\", \"length\", \"flankingRegions.direction\",\n",
    "        \"flankingRegions.sequence.length\", \"flankingRegions.sequence.residues\"\n",
    "    )\n",
    "    query.add_constraint(\"Gene\", \"LOOKUP\", promoter_name, \"S. cerevisiae\", code=\"B\")\n",
    "    query.add_constraint(\"flankingRegions.direction\", \"=\", \"downstream\", code=\"C\")\n",
    "    query.add_constraint(\"flankingRegions.distance\", \"=\", \"0.5kb\", code=\"A\")\n",
    "    query.add_constraint(\"flankingRegions.includeGene\", \"=\", \"false\", code=\"D\")\n",
    "\n",
    "    for row in query.rows():\n",
    "        seq = row[\"flankingRegions.sequence.residues\"]\n",
    "\n",
    "    return seq"
   ]
  },
  {
   "cell_type": "code",
   "execution_count": 9,
   "id": "679ef0f1-90f4-402f-b888-616ae388ac17",
   "metadata": {},
   "outputs": [
    {
     "name": "stdout",
     "output_type": "stream",
     "text": [
      "500\n"
     ]
    }
   ],
   "source": [
    "print(len(FetchTerminator('ADH1')))"
   ]
  },
  {
   "cell_type": "code",
   "execution_count": 16,
   "id": "6780f31e-416b-4c47-9a6a-4bce1b63fdf3",
   "metadata": {},
   "outputs": [
    {
     "name": "stdout",
     "output_type": "stream",
     "text": [
      "CPU times: user 4 µs, sys: 1 µs, total: 5 µs\n",
      "Wall time: 7.87 µs\n"
     ]
    }
   ],
   "source": [
    "%%time\n",
    "def FetchMultipleTerminators(List_of_terminator_names):\n",
    "    # #initializing \n",
    "    LIST_OF_BIOrecord_objects = []\n",
    "\n",
    "    for i in range(0, len(List_of_terminator_names)):\n",
    "        #fetching the seqs\n",
    "        promoters_seq = SeqRecord(Seq(FetchTerminator(List_of_terminator_names[i])))\n",
    "        promoters_seq.name = str(List_of_terminator_names[i])+ ' Terminator'\n",
    "        promoters_seq.id = str(List_of_terminator_names[i])\n",
    "        promoters_seq.description = 'Defined as being 0.5kb downstream of the stop codon and fetched from Intermines API'\n",
    "\n",
    "        # Append to list \n",
    "        LIST_OF_BIOrecord_objects.append(promoters_seq)\n",
    "    \n",
    "    return LIST_OF_BIOrecord_objects"
   ]
  },
  {
   "cell_type": "code",
   "execution_count": 17,
   "id": "76a59dd5-2115-4b8f-8974-db509dae94d1",
   "metadata": {},
   "outputs": [],
   "source": [
    "Terminators_we_want_to_investigate = ['ADH1', 'CYC1']"
   ]
  },
  {
   "cell_type": "code",
   "execution_count": 18,
   "id": "6807682a-a0a1-4df6-a3ca-d75d7e2aeb3a",
   "metadata": {},
   "outputs": [],
   "source": [
    "terminators = FetchMultipleTerminators(Terminators_we_want_to_investigate)"
   ]
  },
  {
   "cell_type": "code",
   "execution_count": 22,
   "id": "2ea67f20-a658-4e47-a4f3-98b45cf9361d",
   "metadata": {},
   "outputs": [
    {
     "data": {
      "text/plain": [
       "[SeqRecord(seq=Seq('GCGAATTTCTTATGATTTATGATTTTTATTATTAAATAAGTTATAAAAAAAATA...ACG'), id='ADH1', name='ADH1 Terminator', description='Defined as being 0.5kb downstream of the stop codon and fetched from Intermines API', dbxrefs=[]),\n",
       " SeqRecord(seq=Seq('ACAGGCCCCTTTTCCTTTGTCGATATCATGTAATTAGTTATGTCACGCTTACAT...GAC'), id='CYC1', name='CYC1 Terminator', description='Defined as being 0.5kb downstream of the stop codon and fetched from Intermines API', dbxrefs=[])]"
      ]
     },
     "execution_count": 22,
     "metadata": {},
     "output_type": "execute_result"
    }
   ],
   "source": [
    "terminators"
   ]
  },
  {
   "cell_type": "code",
   "execution_count": 20,
   "id": "563a010e-5697-4e22-af17-0e75be26619d",
   "metadata": {},
   "outputs": [],
   "source": [
    "with open('Data/UP_DW_and_Marker/Terminators_ADH1_CYC1.fasta', 'w') as outfile:\n",
    "    for i in range(0, len(terminators)):\n",
    "        print(terminators[i].format(\"fasta\"), file = outfile)"
   ]
  }
 ],
 "metadata": {
  "kernelspec": {
   "display_name": "Python 3",
   "language": "python",
   "name": "python3"
  },
  "language_info": {
   "codemirror_mode": {
    "name": "ipython",
    "version": 3
   },
   "file_extension": ".py",
   "mimetype": "text/x-python",
   "name": "python",
   "nbconvert_exporter": "python",
   "pygments_lexer": "ipython3",
   "version": "3.8.11"
  }
 },
 "nbformat": 4,
 "nbformat_minor": 5
}
