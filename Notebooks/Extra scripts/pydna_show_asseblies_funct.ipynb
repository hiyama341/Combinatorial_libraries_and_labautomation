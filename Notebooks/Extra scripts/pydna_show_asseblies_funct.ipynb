{
 "cells": [
  {
   "cell_type": "code",
   "execution_count": null,
   "id": "9c088e43-4dbb-4a28-9a31-5953354466e4",
   "metadata": {},
   "outputs": [],
   "source": [
    "from pydna.assembly import Assembly\n",
    "def MakingAssemblyObjects(list_of_assemblies:list):    \n",
    "    '''\n",
    "    Assembling amplicons into assembling class that shows fragments, limit, \n",
    "    nodes and which algorithm that was used for assembling. THe printout is not so \n",
    "    '''\n",
    "    list_of_assembly_objects = []\n",
    "    for i in range(0, len(list_of_assemblies)): \n",
    "          list_of_assembly_objects.append(Assembly((list_of_assemblies[i]),limit=40))\n",
    "\n",
    "    return list_of_assembly_objects\n",
    "\n",
    "\n",
    "\n",
    "def MakingAssembledContigs(list_of_assembly_objects:list):\n",
    "    '''\n",
    "    Takes in a list of assembly object\n",
    "    This assembles the contigs into a continous contig\n",
    "    '''\n",
    "    contigs_assembled = []\n",
    "    for j in range(0, len(list_of_assembly_objects)): \n",
    "        contigs_assembled.append(list_of_assembly_objects[j].assemble_linear())\n",
    "\n",
    "    return list_of_assembly_objects\n",
    "\n"
   ]
  },
  {
   "cell_type": "code",
   "execution_count": null,
   "id": "af45f925-c3a5-4956-8239-eddd48fd0632",
   "metadata": {},
   "outputs": [],
   "source": [
    "#load in a design assembly object"
   ]
  },
  {
   "cell_type": "code",
   "execution_count": 2,
   "id": "fb07738e-9319-4960-99fe-ac6389fb6cbd",
   "metadata": {},
   "outputs": [
    {
     "ename": "NameError",
     "evalue": "name 'SLS_assembly' is not defined",
     "output_type": "error",
     "traceback": [
      "\u001b[0;31m---------------------------------------------------------------------------\u001b[0m",
      "\u001b[0;31mNameError\u001b[0m                                 Traceback (most recent call last)",
      "\u001b[0;32m<timed exec>\u001b[0m in \u001b[0;36m<module>\u001b[0;34m\u001b[0m\n",
      "\u001b[0;31mNameError\u001b[0m: name 'SLS_assembly' is not defined"
     ]
    }
   ],
   "source": [
    "%%time\n",
    "subset_of_the_assemblies = SLS_assembly.list_of_assemblies[0:1]\n",
    "\n",
    "assemble = Assembly(subset_of_the_assemblies, overlap=35, maxlink=50)\n",
    "\n",
    "# list_of_assemblies = MakingAssemblyObjects(subset_of_the_assemblies)\n",
    "# for i in range(len(list_of_assemblies)):\n",
    "#     print(list_of_assemblies[i].assemble_linear()[0].figure())"
   ]
  }
 ],
 "metadata": {
  "kernelspec": {
   "display_name": "Python 3",
   "language": "python",
   "name": "python3"
  },
  "language_info": {
   "codemirror_mode": {
    "name": "ipython",
    "version": 3
   },
   "file_extension": ".py",
   "mimetype": "text/x-python",
   "name": "python",
   "nbconvert_exporter": "python",
   "pygments_lexer": "ipython3",
   "version": "3.8.11"
  }
 },
 "nbformat": 4,
 "nbformat_minor": 5
}
